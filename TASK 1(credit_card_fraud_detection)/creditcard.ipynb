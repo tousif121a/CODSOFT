{
  "nbformat": 4,
  "nbformat_minor": 0,
  "metadata": {
    "colab": {
      "provenance": []
    },
    "kernelspec": {
      "name": "python3",
      "display_name": "Python 3"
    },
    "language_info": {
      "name": "python"
    }
  },
  "cells": [
    {
      "cell_type": "code",
      "execution_count": 1,
      "metadata": {
        "id": "OtdQnlsvfH0g"
      },
      "outputs": [],
      "source": [
        "import pandas as pd\n",
        "from sklearn.model_selection import train_test_split\n",
        "from sklearn.preprocessing import StandardScaler\n",
        "from sklearn.ensemble import RandomForestClassifier\n",
        "from sklearn.metrics import accuracy_score, classification_report, confusion_matrix"
      ]
    },
    {
      "cell_type": "code",
      "source": [
        "fraudtrain_data = pd.read_csv('fraudTrain.csv')\n",
        "fraudtest_data = pd.read_csv('fraudTest.csv')\n"
      ],
      "metadata": {
        "id": "Y9Na1xXzfKuG"
      },
      "execution_count": 2,
      "outputs": []
    },
    {
      "cell_type": "code",
      "source": [
        "\n",
        "fraudtrain_data = fraudtrain_data[:1000]\n",
        "fraudtest_data = fraudtest_data[:1000]\n",
        "print(fraudtrain_data.shape)\n",
        "print(fraudtest_data.shape)"
      ],
      "metadata": {
        "colab": {
          "base_uri": "https://localhost:8080/"
        },
        "id": "eDM69HddfOB8",
        "outputId": "1e35194f-dffb-444b-9b8e-37a81d4bf329"
      },
      "execution_count": 3,
      "outputs": [
        {
          "output_type": "stream",
          "name": "stdout",
          "text": [
            "(1000, 23)\n",
            "(1000, 23)\n"
          ]
        }
      ]
    },
    {
      "cell_type": "code",
      "source": [
        "X = fraudtrain_data.drop(['trans_date_trans_time', 'merchant', 'category', 'first', 'last', 'gender', 'street', 'city', 'state', 'job', 'trans_num', 'dob'], axis=1)\n",
        "y = fraudtest_data['is_fraud']\n",
        "print(X.shape)\n",
        "print(y.shape)\n",
        "print(fraudtrain_data.shape)\n",
        "print(fraudtest_data.shape)\n",
        "\n",
        "# Build and train the Random Forest classifier\n",
        "rf_classifier = RandomForestClassifier(random_state=42)\n",
        "rf_classifier.fit(X, y)\n",
        "\n",
        "# Make predictions from random forests\n",
        "rf_predictions = rf_classifier.predict(X)"
      ],
      "metadata": {
        "colab": {
          "base_uri": "https://localhost:8080/"
        },
        "id": "4ofcC6NifPq-",
        "outputId": "10be6267-24c7-47fd-e1fe-5dfb0715bf58"
      },
      "execution_count": 4,
      "outputs": [
        {
          "output_type": "stream",
          "name": "stdout",
          "text": [
            "(1000, 11)\n",
            "(1000,)\n",
            "(1000, 23)\n",
            "(1000, 23)\n"
          ]
        }
      ]
    },
    {
      "cell_type": "code",
      "source": [
        "print(\"Random Forest Accuracy:\", accuracy_score(y, rf_predictions))\n",
        "print(\"Random Forest Classification Report:\")\n",
        "print(classification_report(y, rf_predictions))\n",
        "print(\"Random Forest Confusion Matrix:\")\n",
        "print(confusion_matrix(y, rf_predictions))"
      ],
      "metadata": {
        "colab": {
          "base_uri": "https://localhost:8080/"
        },
        "id": "_kCy1FtFfSJU",
        "outputId": "1518a966-7862-44f1-f94d-8bc4fbc9be6e"
      },
      "execution_count": 5,
      "outputs": [
        {
          "output_type": "stream",
          "name": "stdout",
          "text": [
            "Random Forest Accuracy: 1.0\n",
            "Random Forest Classification Report:\n",
            "              precision    recall  f1-score   support\n",
            "\n",
            "           0       1.00      1.00      1.00      1000\n",
            "\n",
            "    accuracy                           1.00      1000\n",
            "   macro avg       1.00      1.00      1.00      1000\n",
            "weighted avg       1.00      1.00      1.00      1000\n",
            "\n",
            "Random Forest Confusion Matrix:\n",
            "[[1000]]\n"
          ]
        }
      ]
    }
  ]
}